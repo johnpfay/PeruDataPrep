{
 "cells": [
  {
   "cell_type": "markdown",
   "metadata": {},
   "source": [
    "### Data Prep - July 28\n",
    "#### Objective\n",
    "1. Read in 4 csv files stored on box drive. For each...\n",
    "1. Convert to dataframe\n",
    "1. Remove rows missing XY daa\n",
    "1. Convert remaining rows to spatial dataframe\n",
    "1. Upload to AGOL"
   ]
  },
  {
   "cell_type": "code",
   "execution_count": 1,
   "metadata": {},
   "outputs": [],
   "source": [
    "#Import packages\n",
    "from datetime import datetime\n",
    "import numpy as np\n",
    "import pandas as pd\n",
    "from arcgis import GIS\n",
    "gis = GIS('pro')"
   ]
  },
  {
   "cell_type": "code",
   "execution_count": 2,
   "metadata": {},
   "outputs": [
    {
     "name": "stdout",
     "output_type": "stream",
     "text": [
      "<User username:jpfay_dukeuniv>\n"
     ]
    }
   ],
   "source": [
    "#Check user\n",
    "print (gis.users.me)"
   ]
  },
  {
   "cell_type": "code",
   "execution_count": 3,
   "metadata": {},
   "outputs": [],
   "source": [
    "#Read xlsx file listing filenames to process\n",
    "df_files = pd.read_excel('Study and sample lists for ArcGIS Online.xlsx')"
   ]
  },
  {
   "cell_type": "code",
   "execution_count": 4,
   "metadata": {},
   "outputs": [],
   "source": [
    "#Get folder location\n",
    "box_folder = 'C:\\\\Users\\\\jpfay\\\\Box\\\\Files to Process\\\\USABLE Data\\\\NOT Processed\\\\'"
   ]
  },
  {
   "cell_type": "code",
   "execution_count": 52,
   "metadata": {},
   "outputs": [
    {
     "name": "stdout",
     "output_type": "stream",
     "text": [
      "275 total rows\n",
      "195 valid rows\n",
      "FishAnalysisLagCategories_final\n"
     ]
    },
    {
     "ename": "RuntimeError",
     "evalue": "The operation was attempted on an empty geometry.",
     "output_type": "error",
     "traceback": [
      "\u001b[1;31m---------------------------------------------------------------------------\u001b[0m",
      "\u001b[1;31mRuntimeError\u001b[0m                              Traceback (most recent call last)",
      "\u001b[1;32m<ipython-input-52-669ec3917410>\u001b[0m in \u001b[0;36m<module>\u001b[1;34m\u001b[0m\n\u001b[0;32m     33\u001b[0m         \u001b[0mtitle\u001b[0m \u001b[1;33m=\u001b[0m \u001b[0mlayer_name\u001b[0m\u001b[1;33m,\u001b[0m\u001b[1;33m\u001b[0m\u001b[1;33m\u001b[0m\u001b[0m\n\u001b[0;32m     34\u001b[0m         \u001b[0mtags\u001b[0m \u001b[1;33m=\u001b[0m \u001b[1;33m[\u001b[0m\u001b[1;34m'Peru'\u001b[0m\u001b[1;33m]\u001b[0m\u001b[1;33m,\u001b[0m\u001b[1;33m\u001b[0m\u001b[1;33m\u001b[0m\u001b[0m\n\u001b[1;32m---> 35\u001b[1;33m         \u001b[0mfolder\u001b[0m \u001b[1;33m=\u001b[0m \u001b[1;34m'Peru_derived_layers'\u001b[0m\u001b[1;33m\u001b[0m\u001b[1;33m\u001b[0m\u001b[0m\n\u001b[0m\u001b[0;32m     36\u001b[0m     )\n\u001b[0;32m     37\u001b[0m     \u001b[1;31m#Share the layer\u001b[0m\u001b[1;33m\u001b[0m\u001b[1;33m\u001b[0m\u001b[1;33m\u001b[0m\u001b[0m\n",
      "\u001b[1;32mC:\\Program Files\\ArcGIS\\Pro\\bin\\Python\\envs\\arcgispro-py3\\lib\\site-packages\\arcgis\\features\\geo\\_accessor.py\u001b[0m in \u001b[0;36mto_featurelayer\u001b[1;34m(self, title, gis, tags, folder)\u001b[0m\n\u001b[0;32m   1983\u001b[0m                 \u001b[1;32mraise\u001b[0m \u001b[0mValueError\u001b[0m\u001b[1;33m(\u001b[0m\u001b[1;34m\"GIS object must be provided\"\u001b[0m\u001b[1;33m)\u001b[0m\u001b[1;33m\u001b[0m\u001b[1;33m\u001b[0m\u001b[0m\n\u001b[0;32m   1984\u001b[0m         \u001b[0mcontent\u001b[0m \u001b[1;33m=\u001b[0m \u001b[0mgis\u001b[0m\u001b[1;33m.\u001b[0m\u001b[0mcontent\u001b[0m\u001b[1;33m\u001b[0m\u001b[1;33m\u001b[0m\u001b[0m\n\u001b[1;32m-> 1985\u001b[1;33m         \u001b[1;32mreturn\u001b[0m \u001b[0mcontent\u001b[0m\u001b[1;33m.\u001b[0m\u001b[0mimport_data\u001b[0m\u001b[1;33m(\u001b[0m\u001b[0mself\u001b[0m\u001b[1;33m.\u001b[0m\u001b[0m_data\u001b[0m\u001b[1;33m,\u001b[0m \u001b[0mfolder\u001b[0m\u001b[1;33m=\u001b[0m\u001b[0mfolder\u001b[0m\u001b[1;33m,\u001b[0m \u001b[0mtitle\u001b[0m\u001b[1;33m=\u001b[0m\u001b[0mtitle\u001b[0m\u001b[1;33m,\u001b[0m \u001b[0mtags\u001b[0m\u001b[1;33m=\u001b[0m\u001b[0mtags\u001b[0m\u001b[1;33m)\u001b[0m\u001b[1;33m\u001b[0m\u001b[1;33m\u001b[0m\u001b[0m\n\u001b[0m\u001b[0;32m   1986\u001b[0m     \u001b[1;31m# ----------------------------------------------------------------------\u001b[0m\u001b[1;33m\u001b[0m\u001b[1;33m\u001b[0m\u001b[1;33m\u001b[0m\u001b[0m\n\u001b[0;32m   1987\u001b[0m     \u001b[1;33m@\u001b[0m\u001b[0mstaticmethod\u001b[0m\u001b[1;33m\u001b[0m\u001b[1;33m\u001b[0m\u001b[0m\n",
      "\u001b[1;32mC:\\Program Files\\ArcGIS\\Pro\\bin\\Python\\envs\\arcgispro-py3\\lib\\site-packages\\arcgis\\gis\\__init__.py\u001b[0m in \u001b[0;36mimport_data\u001b[1;34m(self, df, address_fields, folder, **kwargs)\u001b[0m\n\u001b[0;32m   4114\u001b[0m                     \u001b[0mds\u001b[0m \u001b[1;33m=\u001b[0m\u001b[0;31m\\\u001b[0m\u001b[1;33m\u001b[0m\u001b[1;33m\u001b[0m\u001b[0m\n\u001b[0;32m   4115\u001b[0m                         df.spatial.to_featureclass(location=os.path.join(fgdb,\n\u001b[1;32m-> 4116\u001b[1;33m                                                                          os.path.basename(temp_dir)))\n\u001b[0m\u001b[0;32m   4117\u001b[0m \u001b[1;33m\u001b[0m\u001b[0m\n\u001b[0;32m   4118\u001b[0m                 \u001b[0mzip_fgdb\u001b[0m \u001b[1;33m=\u001b[0m \u001b[0mzipws\u001b[0m\u001b[1;33m(\u001b[0m\u001b[0mpath\u001b[0m\u001b[1;33m=\u001b[0m\u001b[0mfgdb\u001b[0m\u001b[1;33m,\u001b[0m \u001b[0moutfile\u001b[0m\u001b[1;33m=\u001b[0m\u001b[0mtemp_zip\u001b[0m\u001b[1;33m,\u001b[0m \u001b[0mkeep\u001b[0m\u001b[1;33m=\u001b[0m\u001b[1;32mTrue\u001b[0m\u001b[1;33m)\u001b[0m\u001b[1;33m\u001b[0m\u001b[1;33m\u001b[0m\u001b[0m\n",
      "\u001b[1;32mC:\\Program Files\\ArcGIS\\Pro\\bin\\Python\\envs\\arcgispro-py3\\lib\\site-packages\\arcgis\\features\\geo\\_accessor.py\u001b[0m in \u001b[0;36mto_featureclass\u001b[1;34m(self, location, overwrite)\u001b[0m\n\u001b[0;32m   1923\u001b[0m         return to_featureclass(self,\n\u001b[0;32m   1924\u001b[0m                                \u001b[0mlocation\u001b[0m\u001b[1;33m=\u001b[0m\u001b[0mlocation\u001b[0m\u001b[1;33m,\u001b[0m\u001b[1;33m\u001b[0m\u001b[1;33m\u001b[0m\u001b[0m\n\u001b[1;32m-> 1925\u001b[1;33m                                overwrite=overwrite)\n\u001b[0m\u001b[0;32m   1926\u001b[0m     \u001b[1;31m#----------------------------------------------------------------------\u001b[0m\u001b[1;33m\u001b[0m\u001b[1;33m\u001b[0m\u001b[1;33m\u001b[0m\u001b[0m\n\u001b[0;32m   1927\u001b[0m     \u001b[1;32mdef\u001b[0m \u001b[0mto_table\u001b[0m\u001b[1;33m(\u001b[0m\u001b[0mself\u001b[0m\u001b[1;33m,\u001b[0m \u001b[0mlocation\u001b[0m\u001b[1;33m,\u001b[0m \u001b[0moverwrite\u001b[0m\u001b[1;33m=\u001b[0m\u001b[1;32mTrue\u001b[0m\u001b[1;33m)\u001b[0m\u001b[1;33m:\u001b[0m\u001b[1;33m\u001b[0m\u001b[1;33m\u001b[0m\u001b[0m\n",
      "\u001b[1;32mC:\\Program Files\\ArcGIS\\Pro\\bin\\Python\\envs\\arcgispro-py3\\lib\\site-packages\\arcgis\\features\\geo\\_io\\fileops.py\u001b[0m in \u001b[0;36mto_featureclass\u001b[1;34m(geo, location, overwrite, validate)\u001b[0m\n\u001b[0;32m    610\u001b[0m \u001b[1;33m\u001b[0m\u001b[0m\n\u001b[0;32m    611\u001b[0m         \u001b[0marray\u001b[0m \u001b[1;33m=\u001b[0m \u001b[0mnp\u001b[0m\u001b[1;33m.\u001b[0m\u001b[0marray\u001b[0m\u001b[1;33m(\u001b[0m\u001b[1;33m[\u001b[0m\u001b[1;33m]\u001b[0m\u001b[1;33m,\u001b[0m \u001b[0mnp\u001b[0m\u001b[1;33m.\u001b[0m\u001b[0mdtype\u001b[0m\u001b[1;33m(\u001b[0m\u001b[0mdtypes\u001b[0m\u001b[1;33m)\u001b[0m\u001b[1;33m)\u001b[0m\u001b[1;33m\u001b[0m\u001b[1;33m\u001b[0m\u001b[0m\n\u001b[1;32m--> 612\u001b[1;33m         \u001b[0marcpy\u001b[0m\u001b[1;33m.\u001b[0m\u001b[0mda\u001b[0m\u001b[1;33m.\u001b[0m\u001b[0mExtendTable\u001b[0m\u001b[1;33m(\u001b[0m\u001b[0mfc\u001b[0m\u001b[1;33m,\u001b[0m \u001b[0moidfld\u001b[0m\u001b[1;33m,\u001b[0m \u001b[0marray\u001b[0m\u001b[1;33m,\u001b[0m \u001b[0mjoin_dummy\u001b[0m\u001b[1;33m,\u001b[0m \u001b[0mappend_only\u001b[0m\u001b[1;33m=\u001b[0m\u001b[1;32mFalse\u001b[0m\u001b[1;33m)\u001b[0m\u001b[1;33m\u001b[0m\u001b[1;33m\u001b[0m\u001b[0m\n\u001b[0m\u001b[0;32m    613\u001b[0m \u001b[1;33m\u001b[0m\u001b[0m\n\u001b[0;32m    614\u001b[0m         \u001b[1;31m# 3. Insert the Data\u001b[0m\u001b[1;33m\u001b[0m\u001b[1;33m\u001b[0m\u001b[1;33m\u001b[0m\u001b[0m\n",
      "\u001b[1;31mRuntimeError\u001b[0m: The operation was attempted on an empty geometry."
     ]
    }
   ],
   "source": [
    "for idx in [3]:\n",
    "    row = df_files.loc[idx,:]\n",
    "    filename = box_folder+row['File name']\n",
    "    lat_fld = row['Latitude Field Name'].strip()\n",
    "    lng_fld = row['Longitude Field Name']\n",
    "    hg_fld = row['Hg Field Name']\n",
    "    sample_type = row['Sample type']\n",
    "\n",
    "    #Read in file\n",
    "    df = pd.read_csv(filename,\n",
    "                     usecols=[lat_fld,lng_fld,hg_fld],\n",
    "                     dtype=np.double)\n",
    "    total_rows = df.shape[0]\n",
    "    df_files.loc[idx,'total records'] = total_rows\n",
    "    print(f'{total_rows} total rows')\n",
    "\n",
    "    #Remove rows missing values\n",
    "    df_valid = df.dropna(axis='rows',how='any').reset_index()\n",
    "    valid_rows = df_valid.shape[0]\n",
    "    df_files.loc[idx,'valid records'] = valid_rows\n",
    "    print(f'{valid_rows} valid rows')\n",
    "\n",
    "    #Fix field names (remove spaces)\n",
    "    #for fld in sdf.columns:\n",
    "    #    if \" \" in fld: sdf.rename(columns={fld:fld.replace(' ','')},inplace=True)\n",
    "    \n",
    "    #Convert to spatial dataframe\n",
    "    sdf = pd.DataFrame.spatial.from_xy(\n",
    "        df = df_valid,\n",
    "        x_column=lng_fld,\n",
    "        y_column=lat_fld)\n",
    "\n",
    "    #Convert to feature layer\n",
    "    layer_name = row['File name'].split('.')[0]\n",
    "    print(layer_name)\n",
    "    feat_lyr = sdf.spatial.to_featurelayer(\n",
    "        title = layer_name,\n",
    "        tags = ['Peru'],\n",
    "        folder = 'Peru_derived_layers'\n",
    "    )\n",
    "    #Share the layer\n",
    "    feat_lyr.share('a81478c63d434e33829d2168c4dfdd93')"
   ]
  },
  {
   "cell_type": "code",
   "execution_count": 72,
   "metadata": {},
   "outputs": [],
   "source": [
    "sdf_Fix = sdf.rename(columns={hg_fld:'HgAvgFish_ppm',lat_fld:'Point_Y_latitude'})"
   ]
  },
  {
   "cell_type": "code",
   "execution_count": 73,
   "metadata": {},
   "outputs": [],
   "source": [
    "feat_lyr = sdf_Fix.spatial.to_featurelayer(\n",
    "    title = \"fOO\",\n",
    "    tags = ['Peru'],\n",
    "    folder = 'Peru_derived_layers'\n",
    ")"
   ]
  },
  {
   "cell_type": "code",
   "execution_count": 64,
   "metadata": {},
   "outputs": [
    {
     "data": {
      "text/plain": [
       "{'results': [{'itemId': '2839bc5d6f9a42c1a7f21afd2f0a5642',\n",
       "   'success': True,\n",
       "   'notSharedWith': []}]}"
      ]
     },
     "execution_count": 64,
     "metadata": {},
     "output_type": "execute_result"
    }
   ],
   "source": [
    "feat_lyr.share('a81478c63d434e33829d2168c4dfdd93')"
   ]
  },
  {
   "cell_type": "code",
   "execution_count": 65,
   "metadata": {},
   "outputs": [],
   "source": [
    "df_files.to_csv('Processed.csv',index=False)"
   ]
  },
  {
   "cell_type": "code",
   "execution_count": 66,
   "metadata": {},
   "outputs": [
    {
     "data": {
      "text/html": [
       "<div>\n",
       "<style scoped>\n",
       "    .dataframe tbody tr th:only-of-type {\n",
       "        vertical-align: middle;\n",
       "    }\n",
       "\n",
       "    .dataframe tbody tr th {\n",
       "        vertical-align: top;\n",
       "    }\n",
       "\n",
       "    .dataframe thead th {\n",
       "        text-align: right;\n",
       "    }\n",
       "</style>\n",
       "<table border=\"1\" class=\"dataframe\">\n",
       "  <thead>\n",
       "    <tr style=\"text-align: right;\">\n",
       "      <th></th>\n",
       "      <th>Study</th>\n",
       "      <th>File name</th>\n",
       "      <th>Sample type</th>\n",
       "      <th>Latitude Field Name</th>\n",
       "      <th>Longitude Field Name</th>\n",
       "      <th>Hg Field Name</th>\n",
       "      <th>total records</th>\n",
       "      <th>valid records</th>\n",
       "    </tr>\n",
       "  </thead>\n",
       "  <tbody>\n",
       "    <tr>\n",
       "      <td>0</td>\n",
       "      <td>Hunt Study, IOH Study, RioMDD Study</td>\n",
       "      <td>cleaned_HGMAPS.csv</td>\n",
       "      <td>Humans</td>\n",
       "      <td>LAT</td>\n",
       "      <td>LON</td>\n",
       "      <td>HAIR_HG</td>\n",
       "      <td>3259.0</td>\n",
       "      <td>3259.0</td>\n",
       "    </tr>\n",
       "    <tr>\n",
       "      <td>1</td>\n",
       "      <td>River Study</td>\n",
       "      <td>suspendedparticles_final.csv</td>\n",
       "      <td>Suspended particles in water</td>\n",
       "      <td>Point_Y</td>\n",
       "      <td>Point_X</td>\n",
       "      <td>Hg_ss_avg</td>\n",
       "      <td>77.0</td>\n",
       "      <td>66.0</td>\n",
       "    </tr>\n",
       "    <tr>\n",
       "      <td>2</td>\n",
       "      <td>River Study</td>\n",
       "      <td>sediment_analysis_final.csv</td>\n",
       "      <td>Sediment</td>\n",
       "      <td>Latitude</td>\n",
       "      <td>Longitude</td>\n",
       "      <td>hgt_avg</td>\n",
       "      <td>74.0</td>\n",
       "      <td>59.0</td>\n",
       "    </tr>\n",
       "    <tr>\n",
       "      <td>3</td>\n",
       "      <td>El Nino Study</td>\n",
       "      <td>FishAnalysisLagCategories_final.csv</td>\n",
       "      <td>Fish</td>\n",
       "      <td>Point_Y_ latitude</td>\n",
       "      <td>Point_X_longitude</td>\n",
       "      <td>HgAvgFish (ppm)</td>\n",
       "      <td>275.0</td>\n",
       "      <td>195.0</td>\n",
       "    </tr>\n",
       "  </tbody>\n",
       "</table>\n",
       "</div>"
      ],
      "text/plain": [
       "                                 Study                            File name  \\\n",
       "0  Hunt Study, IOH Study, RioMDD Study                   cleaned_HGMAPS.csv   \n",
       "1                          River Study         suspendedparticles_final.csv   \n",
       "2                          River Study          sediment_analysis_final.csv   \n",
       "3                        El Nino Study  FishAnalysisLagCategories_final.csv   \n",
       "\n",
       "                    Sample type Latitude Field Name Longitude Field Name  \\\n",
       "0                        Humans                 LAT                  LON   \n",
       "1  Suspended particles in water             Point_Y              Point_X   \n",
       "2                      Sediment            Latitude            Longitude   \n",
       "3                          Fish   Point_Y_ latitude    Point_X_longitude   \n",
       "\n",
       "     Hg Field Name  total records  valid records  \n",
       "0          HAIR_HG         3259.0         3259.0  \n",
       "1        Hg_ss_avg           77.0           66.0  \n",
       "2          hgt_avg           74.0           59.0  \n",
       "3  HgAvgFish (ppm)          275.0          195.0  "
      ]
     },
     "execution_count": 66,
     "metadata": {},
     "output_type": "execute_result"
    }
   ],
   "source": [
    "df_files"
   ]
  },
  {
   "cell_type": "code",
   "execution_count": 67,
   "metadata": {},
   "outputs": [
    {
     "data": {
      "text/plain": [
       "'C:\\\\Workspace\\\\Gits'"
      ]
     },
     "execution_count": 67,
     "metadata": {},
     "output_type": "execute_result"
    }
   ],
   "source": [
    "import os\n",
    "os.getcwd()"
   ]
  },
  {
   "cell_type": "code",
   "execution_count": 77,
   "metadata": {},
   "outputs": [],
   "source": [
    "fix_fields = [[fld,fld.replace(\" \",\"\")] for fld in sdf.columns if \" \" in fld]"
   ]
  },
  {
   "cell_type": "code",
   "execution_count": 81,
   "metadata": {},
   "outputs": [
    {
     "name": "stdout",
     "output_type": "stream",
     "text": [
      "HgAvgFish (ppm)\n",
      "Point_Y_ latitude\n"
     ]
    }
   ],
   "source": [
    "for fld in sdf.columns:\n",
    "    if \" \" in fld: \n",
    "        fix_fld = fld.replace(' ','')\n",
    "        print(fld)\n",
    "        sdf.rename(columns={fld:fix_fld},inplace=True)"
   ]
  },
  {
   "cell_type": "code",
   "execution_count": null,
   "metadata": {},
   "outputs": [],
   "source": []
  }
 ],
 "metadata": {
  "kernelspec": {
   "display_name": "Python 3",
   "language": "python",
   "name": "python3"
  },
  "language_info": {
   "codemirror_mode": {
    "name": "ipython",
    "version": 3
   },
   "file_extension": ".py",
   "mimetype": "text/x-python",
   "name": "python",
   "nbconvert_exporter": "python",
   "pygments_lexer": "ipython3",
   "version": "3.6.9"
  }
 },
 "nbformat": 4,
 "nbformat_minor": 2
}
