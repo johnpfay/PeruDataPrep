{
 "cells": [
  {
   "cell_type": "markdown",
   "metadata": {},
   "source": [
    "### Data Prep - July 28\n",
    "#### Objective\n",
    "1. Read in 4 csv files stored on box drive. For each...\n",
    "1. Convert to dataframe\n",
    "1. Remove rows missing XY daa\n",
    "1. Convert remaining rows to spatial dataframe\n",
    "1. Upload to AGOL"
   ]
  },
  {
   "cell_type": "code",
   "execution_count": 49,
   "metadata": {},
   "outputs": [],
   "source": [
    "#Import packages\n",
    "from datetime import datetime\n",
    "import numpy as np\n",
    "import pandas as pd\n",
    "from arcgis import GIS\n",
    "gis = GIS('pro')"
   ]
  },
  {
   "cell_type": "code",
   "execution_count": 2,
   "metadata": {},
   "outputs": [
    {
     "name": "stdout",
     "output_type": "stream",
     "text": [
      "<User username:jpfay_dukeuniv>\n"
     ]
    }
   ],
   "source": [
    "#Check user\n",
    "print (gis.users.me)"
   ]
  },
  {
   "cell_type": "code",
   "execution_count": 36,
   "metadata": {},
   "outputs": [],
   "source": [
    "#Read xlsx file listing filenames to process\n",
    "df_files = pd.read_excel('Study and sample lists for ArcGIS Online.xlsx')"
   ]
  },
  {
   "cell_type": "code",
   "execution_count": 17,
   "metadata": {},
   "outputs": [],
   "source": [
    "#Get folder location\n",
    "box_folder = 'C:\\\\Users\\\\jpfay\\\\Box\\\\Files to Process\\\\USABLE Data\\\\NOT Processed\\\\'"
   ]
  },
  {
   "cell_type": "code",
   "execution_count": 57,
   "metadata": {},
   "outputs": [
    {
     "data": {
      "text/plain": [
       "'2020-07-29-09-03'"
      ]
     },
     "execution_count": 57,
     "metadata": {},
     "output_type": "execute_result"
    }
   ],
   "source": [
    "#Initialize log file\n",
    "str_now = datetime.now().strftime('%Y-%m-%d-%H-%M')\n",
    "log_filename = f\"log{str_now}.csv\"\n",
    "the_log = open(log_filename,'w')\n",
    "the_log.write('Filename,Total Rows,Rows Processed\\n')"
   ]
  },
  {
   "cell_type": "code",
   "execution_count": null,
   "metadata": {},
   "outputs": [],
   "source": [
    "idx = 0"
   ]
  },
  {
   "cell_type": "code",
   "execution_count": 64,
   "metadata": {},
   "outputs": [
    {
     "name": "stdout",
     "output_type": "stream",
     "text": [
      "3259 total rows\n",
      "3259 valid rows\n"
     ]
    }
   ],
   "source": [
    "row = df_files.loc[idx,:]\n",
    "filename = box_folder+row['File name']\n",
    "lat_fld = row['Latitude Field Name']\n",
    "lng_fld = row['Longitude Field Name']\n",
    "hg_fld = row['Hg Field Name']\n",
    "sample_type = row['Sample type']\n",
    "\n",
    "#Read in file\n",
    "df = pd.read_csv(filename,\n",
    "                 usecols=[lat_fld,lng_fld,hg_fld],\n",
    "                 dtype='float')\n",
    "total_rows = df.shape[0]\n",
    "df_files.loc[idx,'total records'] = total_rows\n",
    "print(f'{total_rows} total rows')\n",
    "\n",
    "#Remove rows missing values\n",
    "df_valid = df.dropna(axis='rows',how='any')\n",
    "valid_rows = df_valid.shape[0]\n",
    "df_files.loc[idx,'valid records'] = valid_rows\n",
    "print(f'{valid_rows} valid rows')"
   ]
  },
  {
   "cell_type": "code",
   "execution_count": 66,
   "metadata": {},
   "outputs": [],
   "source": [
    "#Convert to spatial dataframe\n",
    "sdf = pd.DataFrame.spatial.from_xy(\n",
    "    df = df_valid,\n",
    "    x_column=lng_fld,\n",
    "    y_column=lat_fld)"
   ]
  },
  {
   "cell_type": "code",
   "execution_count": 68,
   "metadata": {},
   "outputs": [
    {
     "data": {
      "application/vnd.jupyter.widget-view+json": {
       "model_id": "249526a7b52c47aaac8bb2beb075e60c",
       "version_major": 2,
       "version_minor": 0
      },
      "text/plain": [
       "MapView(layout=Layout(height='400px', width='100%'))"
      ]
     },
     "metadata": {},
     "output_type": "display_data"
    },
    {
     "data": {
      "text/html": [
       "<div class=\"map-static-img-preview-08dd6101-638c-43c3-a4ab-9196e4177c59\"><img src=\"\"></img></div>"
      ],
      "text/plain": [
       "<IPython.core.display.HTML object>"
      ]
     },
     "metadata": {},
     "output_type": "display_data"
    }
   ],
   "source": [
    "sdf.spatial.plot()"
   ]
  },
  {
   "cell_type": "code",
   "execution_count": null,
   "metadata": {},
   "outputs": [],
   "source": [
    "#Convert to feature layer"
   ]
  }
 ],
 "metadata": {
  "kernelspec": {
   "display_name": "Python 3",
   "language": "python",
   "name": "python3"
  },
  "language_info": {
   "codemirror_mode": {
    "name": "ipython",
    "version": 3
   },
   "file_extension": ".py",
   "mimetype": "text/x-python",
   "name": "python",
   "nbconvert_exporter": "python",
   "pygments_lexer": "ipython3",
   "version": "3.6.9"
  }
 },
 "nbformat": 4,
 "nbformat_minor": 2
}
