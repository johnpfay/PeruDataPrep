{
 "cells": [
  {
   "cell_type": "markdown",
   "metadata": {},
   "source": [
    "# Data engineering workflow\n",
    "1. Get a list of filenames (by extension)\n",
    "2. For a given file: \n",
    " * Import as a dataframe\n",
    " * Identify key columns: Coordinates, Hg value, units, groupings\n",
    " * Clean the data: handle missing values, identify outliers"
   ]
  },
  {
   "cell_type": "code",
   "execution_count": 1,
   "metadata": {},
   "outputs": [],
   "source": [
    "#Import packages\n",
    "import pandas as pd\n",
    "import numpy as np\n",
    "from pathlib import Path\n",
    "import os"
   ]
  },
  {
   "cell_type": "code",
   "execution_count": 2,
   "metadata": {},
   "outputs": [],
   "source": [
    "#Connect to GIS (via ArcGIS Pro)\n",
    "from arcgis import GIS\n",
    "gis = GIS('pro')"
   ]
  },
  {
   "cell_type": "code",
   "execution_count": 3,
   "metadata": {},
   "outputs": [],
   "source": [
    "#Create a dictionary of file lists (by extension)\n",
    "thePath = \"../data/raw\"\n",
    "files = {}\n",
    "for ext in ['csv','xlsx','dta']:\n",
    "    files[ext] = [path for path in Path(thePath).rglob(\"*.\"+ext)]"
   ]
  },
  {
   "cell_type": "code",
   "execution_count": 4,
   "metadata": {},
   "outputs": [
    {
     "name": "stdout",
     "output_type": "stream",
     "text": [
      "..\\data\\raw\\cleaned_HGMAPS.csv\n",
      "..\\data\\raw\\FishAnalysisLagCategories_final.csv\n",
      "..\\data\\raw\\sediment_analysis_final.csv\n",
      "..\\data\\raw\\suspendedparticles_final.csv\n"
     ]
    }
   ],
   "source": [
    "#Process all CSV files\n",
    "for the_file in files['csv']:\n",
    "    #Get the filename (less the extension)\n",
    "    file_name = os.path.basename(the_file).split(\".\")[0]\n",
    "    print(the_file)"
   ]
  },
  {
   "cell_type": "markdown",
   "metadata": {},
   "source": [
    "## Data cleaning\n",
    "* Get the filename\n",
    "* Read the data into a dataframe\n",
    "* Ensure data has coordinate fields\n",
    "* Fix missing values\n",
    " * Omit rows with invalid X and Y coordinates"
   ]
  },
  {
   "cell_type": "code",
   "execution_count": 5,
   "metadata": {},
   "outputs": [
    {
     "name": "stdout",
     "output_type": "stream",
     "text": [
      "..\\data\\raw\\suspendedparticles_final.csv\n"
     ]
    }
   ],
   "source": [
    "#Get the file to process\n",
    "the_file = files['csv'][3]\n",
    "print(the_file)"
   ]
  },
  {
   "cell_type": "code",
   "execution_count": 8,
   "metadata": {},
   "outputs": [
    {
     "name": "stdout",
     "output_type": "stream",
     "text": [
      "77 records with 33 fields imported\n"
     ]
    }
   ],
   "source": [
    "#Import the file into a dataframe\n",
    "df = pd.read_csv(the_file,na_values='')\n",
    "numrecs_df, numfields_df=df.shape\n",
    "print(f'{numrecs_df} records with {numfields_df} fields imported')"
   ]
  },
  {
   "cell_type": "markdown",
   "metadata": {},
   "source": [
    "### Get the columns"
   ]
  },
  {
   "cell_type": "code",
   "execution_count": 14,
   "metadata": {},
   "outputs": [
    {
     "name": "stdout",
     "output_type": "stream",
     "text": [
      "<class 'pandas.core.frame.DataFrame'>\n",
      "RangeIndex: 77 entries, 0 to 76\n",
      "Data columns (total 33 columns):\n",
      " #   Column       Non-Null Count  Dtype  \n",
      "---  ------       --------------  -----  \n",
      " 0   SiteCode     77 non-null     object \n",
      " 1   FieldCode    10 non-null     object \n",
      " 2   Community    77 non-null     object \n",
      " 3   CommCode     77 non-null     object \n",
      " 4   Location     77 non-null     int64  \n",
      " 5   Point_Y      77 non-null     float64\n",
      " 6   Point_X      77 non-null     float64\n",
      " 7   Field1       0 non-null      float64\n",
      " 8   location2    77 non-null     int64  \n",
      " 9   SampleCode   76 non-null     object \n",
      " 10  Mainstem     76 non-null     float64\n",
      " 11  TSS_1        77 non-null     float64\n",
      " 12  TSS_2        70 non-null     float64\n",
      " 13  TSS_3        27 non-null     float64\n",
      " 14  TSS_avg      76 non-null     float64\n",
      " 15  TSS_stdev    70 non-null     float64\n",
      " 16  Hg_p_a       64 non-null     float64\n",
      " 17  Hg_p_b       64 non-null     float64\n",
      " 18  Hg_p_c       11 non-null     float64\n",
      " 19  Hg_p_avg     67 non-null     float64\n",
      " 20  Hg_p_stdev   61 non-null     float64\n",
      " 21  Hg_ss_a      64 non-null     float64\n",
      " 22  Hg_ss_b      63 non-null     float64\n",
      " 23  Hg_ss_c      4 non-null      float64\n",
      " 24  Hg_ss_avg    66 non-null     float64\n",
      " 25  Hg_ss_stdev  60 non-null     float64\n",
      " 26  season       77 non-null     int64  \n",
      " 27  loc50        77 non-null     float64\n",
      " 28  section      77 non-null     int64  \n",
      " 29  sectiondiff  77 non-null     int64  \n",
      " 30  sec1         77 non-null     int64  \n",
      " 31  sec2         77 non-null     int64  \n",
      " 32  sec3         77 non-null     int64  \n",
      "dtypes: float64(20), int64(8), object(5)\n",
      "memory usage: 20.0+ KB\n"
     ]
    }
   ],
   "source": [
    "#Display a list of imported columns\n",
    "df.info()"
   ]
  },
  {
   "cell_type": "code",
   "execution_count": 15,
   "metadata": {},
   "outputs": [],
   "source": [
    "#Set the columns to use\n",
    "x_fld = 'Point_X'\n",
    "y_fld = 'Point_Y'\n",
    "hg_fld = 'Hg_p_avg'\n",
    "grp_fld = 'CommCode'"
   ]
  },
  {
   "cell_type": "code",
   "execution_count": 25,
   "metadata": {},
   "outputs": [
    {
     "data": {
      "image/png": "[encoded data removed]",
      "text/plain": [
       "<Figure size 432x288 with 1 Axes>"
      ]
     },
     "metadata": {
      "needs_background": "light"
     },
     "output_type": "display_data"
    }
   ],
   "source": [
    "#Visualize histogram of HG values\n",
    "df.hist(column = hg_fld);"
   ]
  },
  {
   "cell_type": "code",
   "execution_count": 30,
   "metadata": {},
   "outputs": [
    {
     "data": {
      "image/png": "[encoded data removed]",
      "text/plain": [
       "<Figure size 1080x360 with 1 Axes>"
      ]
     },
     "metadata": {
      "needs_background": "light"
     },
     "output_type": "display_data"
    }
   ],
   "source": [
    "#Visualize distributions across groups\n",
    "df.boxplot(column = hg_fld, by = grp_fld, figsize=(15,5));"
   ]
  },
  {
   "cell_type": "code",
   "execution_count": 19,
   "metadata": {},
   "outputs": [],
   "source": [
    "#Convert to spatial dataframe\n",
    "sdf = pd.DataFrame.spatial.from_xy(df,x_column=x_fld,y_column=y_fld)"
   ]
  },
  {
   "cell_type": "code",
   "execution_count": 33,
   "metadata": {},
   "outputs": [],
   "source": [
    "#Create a map of the points\n",
    "theMap = sdf.spatial.plot()"
   ]
  },
  {
   "cell_type": "code",
   "execution_count": 35,
   "metadata": {},
   "outputs": [
    {
     "data": {
      "application/vnd.jupyter.widget-view+json": {
       "model_id": "9eb32ade2c1c4ec89e9ae6a9516828c6",
       "version_major": 2,
       "version_minor": 0
      },
      "text/plain": [
       "MapView(layout=Layout(height='400px', width='100%'))"
      ]
     },
     "metadata": {},
     "output_type": "display_data"
    },
    {
     "data": {
      "text/html": [
       "<div class=\"map-static-img-preview-4a3d994b-12d5-4204-92ca-817c763a11d3\"><img src=\"\"></img></div>"
      ],
      "text/plain": [
       "<IPython.core.display.HTML object>"
      ]
     },
     "metadata": {},
     "output_type": "display_data"
    }
   ],
   "source": [
    "theMap"
   ]
  },
  {
   "cell_type": "code",
   "execution_count": 34,
   "metadata": {},
   "outputs": [],
   "source": [
    "theMap.basemap = 'satellite'"
   ]
  },
  {
   "cell_type": "code",
   "execution_count": null,
   "metadata": {},
   "outputs": [],
   "source": []
  }
 ],
 "metadata": {
  "kernelspec": {
   "display_name": "Python 3",
   "language": "python",
   "name": "python3"
  },
  "language_info": {
   "codemirror_mode": {
    "name": "ipython",
    "version": 3
   },
   "file_extension": ".py",
   "mimetype": "text/x-python",
   "name": "python",
   "nbconvert_exporter": "python",
   "pygments_lexer": "ipython3",
   "version": "3.6.10"
  }
 },
 "nbformat": 4,
 "nbformat_minor": 2
}
