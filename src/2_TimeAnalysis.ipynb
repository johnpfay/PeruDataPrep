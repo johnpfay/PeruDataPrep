{
 "cells": [
  {
   "cell_type": "code",
   "execution_count": 1,
   "id": "170ba8e2",
   "metadata": {},
   "outputs": [],
   "source": [
    "#Import libraries\n",
    "import pandas as pd"
   ]
  },
  {
   "cell_type": "code",
   "execution_count": 15,
   "id": "08210ecd",
   "metadata": {},
   "outputs": [
    {
     "data": {
      "text/plain": [
       "(4626, 15)"
      ]
     },
     "execution_count": 15,
     "metadata": {},
     "output_type": "execute_result"
    }
   ],
   "source": [
    "#Read the csv \n",
    "df = pd.read_csv('../data/processed/MadreDeDios_MercuryMasterData.csv',\n",
    "                 parse_dates=['DateCollected'])\n",
    "df.shape"
   ]
  },
  {
   "cell_type": "code",
   "execution_count": 7,
   "id": "c1fef26e",
   "metadata": {},
   "outputs": [
    {
     "name": "stdout",
     "output_type": "stream",
     "text": [
      "<class 'pandas.core.frame.DataFrame'>\n",
      "RangeIndex: 4626 entries, 0 to 4625\n",
      "Data columns (total 15 columns):\n",
      " #   Column                       Non-Null Count  Dtype         \n",
      "---  ------                       --------------  -----         \n",
      " 0   Author                       4626 non-null   object        \n",
      " 1   Date data was collected      4626 non-null   object        \n",
      " 2   Sample type                  4626 non-null   object        \n",
      " 3   Species                      4222 non-null   object        \n",
      " 4   Sample size                  4626 non-null   int64         \n",
      " 5   Longitude (X)                4626 non-null   float64       \n",
      " 6   Latitude (Y)                 4626 non-null   float64       \n",
      " 7   Mercury concentration (ppm)  4626 non-null   float64       \n",
      " 8   Margin of error              766 non-null    float64       \n",
      " 9   Mercury type                 4626 non-null   object        \n",
      " 10  Age (human only)             3190 non-null   float64       \n",
      " 11  Sex (human only)             3190 non-null   object        \n",
      " 12  DateCollected                308 non-null    datetime64[ns]\n",
      " 13  StartYear                    4626 non-null   int64         \n",
      " 14  EndYear                      4626 non-null   int64         \n",
      "dtypes: datetime64[ns](1), float64(5), int64(3), object(6)\n",
      "memory usage: 542.2+ KB\n"
     ]
    }
   ],
   "source": [
    "df.info()"
   ]
  },
  {
   "cell_type": "code",
   "execution_count": 20,
   "id": "a4bafa25",
   "metadata": {},
   "outputs": [
    {
     "data": {
      "text/plain": [
       "(308, 15)"
      ]
     },
     "execution_count": 20,
     "metadata": {},
     "output_type": "execute_result"
    }
   ],
   "source": [
    "#Pull our records with complete timestamps\n",
    "df_timestamped = df.loc[~(df['DateCollected'].isna())].copy()\n",
    "df_timestamped.shape"
   ]
  },
  {
   "cell_type": "code",
   "execution_count": 65,
   "id": "2ff18a45",
   "metadata": {},
   "outputs": [
    {
     "data": {
      "text/html": [
       "<div>\n",
       "<style scoped>\n",
       "    .dataframe tbody tr th:only-of-type {\n",
       "        vertical-align: middle;\n",
       "    }\n",
       "\n",
       "    .dataframe tbody tr th {\n",
       "        vertical-align: top;\n",
       "    }\n",
       "\n",
       "    .dataframe thead th {\n",
       "        text-align: right;\n",
       "    }\n",
       "</style>\n",
       "<table border=\"1\" class=\"dataframe\">\n",
       "  <thead>\n",
       "    <tr style=\"text-align: right;\">\n",
       "      <th></th>\n",
       "      <th>month</th>\n",
       "      <th>doy</th>\n",
       "      <th>quarter</th>\n",
       "    </tr>\n",
       "  </thead>\n",
       "  <tbody>\n",
       "    <tr>\n",
       "      <th>13</th>\n",
       "      <td>1</td>\n",
       "      <td>26</td>\n",
       "      <td>1</td>\n",
       "    </tr>\n",
       "    <tr>\n",
       "      <th>14</th>\n",
       "      <td>1</td>\n",
       "      <td>26</td>\n",
       "      <td>1</td>\n",
       "    </tr>\n",
       "    <tr>\n",
       "      <th>15</th>\n",
       "      <td>1</td>\n",
       "      <td>26</td>\n",
       "      <td>1</td>\n",
       "    </tr>\n",
       "    <tr>\n",
       "      <th>16</th>\n",
       "      <td>1</td>\n",
       "      <td>26</td>\n",
       "      <td>1</td>\n",
       "    </tr>\n",
       "  </tbody>\n",
       "</table>\n",
       "</div>"
      ],
      "text/plain": [
       "    month  doy  quarter\n",
       "13      1   26        1\n",
       "14      1   26        1\n",
       "15      1   26        1\n",
       "16      1   26        1"
      ]
     },
     "execution_count": 65,
     "metadata": {},
     "output_type": "execute_result"
    }
   ],
   "source": [
    "#Add month, day of year, and quarter fields\n",
    "df_timestamped['month'] = pd.DatetimeIndex(df_timestamped['DateCollected']).month\n",
    "df_timestamped['doy'] = pd.DatetimeIndex(df_timestamped['DateCollected']).dayofyear\n",
    "df_timestamped['quarter'] = pd.DatetimeIndex(df_timestamped['DateCollected']).quarter\n",
    "df_timestamped.iloc[:4,-3:]"
   ]
  },
  {
   "cell_type": "code",
   "execution_count": 66,
   "id": "16697126",
   "metadata": {},
   "outputs": [
    {
     "name": "stdout",
     "output_type": "stream",
     "text": [
      "<class 'pandas.core.frame.DataFrame'>\n",
      "Int64Index: 308 entries, 13 to 320\n",
      "Data columns (total 18 columns):\n",
      " #   Column                       Non-Null Count  Dtype         \n",
      "---  ------                       --------------  -----         \n",
      " 0   Author                       308 non-null    object        \n",
      " 1   Date data was collected      308 non-null    object        \n",
      " 2   Sample type                  308 non-null    object        \n",
      " 3   Species                      308 non-null    object        \n",
      " 4   Sample size                  308 non-null    int64         \n",
      " 5   Longitude (X)                308 non-null    float64       \n",
      " 6   Latitude (Y)                 308 non-null    float64       \n",
      " 7   Mercury concentration (ppm)  308 non-null    float64       \n",
      " 8   Margin of error              297 non-null    float64       \n",
      " 9   Mercury type                 308 non-null    object        \n",
      " 10  Age (human only)             0 non-null      float64       \n",
      " 11  Sex (human only)             0 non-null      object        \n",
      " 12  DateCollected                308 non-null    datetime64[ns]\n",
      " 13  StartYear                    308 non-null    int64         \n",
      " 14  EndYear                      308 non-null    int64         \n",
      " 15  month                        308 non-null    int64         \n",
      " 16  doy                          308 non-null    int64         \n",
      " 17  quarter                      308 non-null    int64         \n",
      "dtypes: datetime64[ns](1), float64(5), int64(6), object(6)\n",
      "memory usage: 45.7+ KB\n"
     ]
    }
   ],
   "source": [
    "df_timestamped.info()"
   ]
  },
  {
   "cell_type": "code",
   "execution_count": 68,
   "id": "e20164e6",
   "metadata": {},
   "outputs": [
    {
     "data": {
      "text/plain": [
       "1     48\n",
       "2     64\n",
       "8    196\n",
       "Name: month, dtype: int64"
      ]
     },
     "execution_count": 68,
     "metadata": {},
     "output_type": "execute_result"
    }
   ],
   "source": [
    "df_timestamped['month'].value_counts(sort=False)#.plot(kind='bar');"
   ]
  },
  {
   "cell_type": "code",
   "execution_count": 62,
   "id": "3b42a921",
   "metadata": {},
   "outputs": [
    {
     "data": {
      "text/plain": [
       "26     10\n",
       "27     11\n",
       "28     22\n",
       "29      5\n",
       "38     16\n",
       "39     29\n",
       "40     19\n",
       "215     9\n",
       "216    11\n",
       "217    16\n",
       "218     5\n",
       "219    53\n",
       "220     1\n",
       "227    21\n",
       "228     9\n",
       "229    23\n",
       "230    48\n",
       "Name: doy, dtype: int64"
      ]
     },
     "execution_count": 62,
     "metadata": {},
     "output_type": "execute_result"
    }
   ],
   "source": [
    "dayDF = df_timestamped['doy'].value_counts(sort=False)\n",
    "dayDF"
   ]
  },
  {
   "cell_type": "code",
   "execution_count": 59,
   "id": "f22b6274",
   "metadata": {},
   "outputs": [],
   "source": [
    "import numpy as np"
   ]
  }
 ],
 "metadata": {
  "kernelspec": {
   "display_name": "Python 3",
   "language": "python",
   "name": "python3"
  },
  "language_info": {
   "codemirror_mode": {
    "name": "ipython",
    "version": 3
   },
   "file_extension": ".py",
   "mimetype": "text/x-python",
   "name": "python",
   "nbconvert_exporter": "python",
   "pygments_lexer": "ipython3",
   "version": "3.7.10"
  }
 },
 "nbformat": 4,
 "nbformat_minor": 5
}
