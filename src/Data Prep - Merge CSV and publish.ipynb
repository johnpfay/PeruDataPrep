{
 "cells": [
  {
   "cell_type": "markdown",
   "metadata": {},
   "source": [
    "### Import packages"
   ]
  },
  {
   "cell_type": "code",
   "execution_count": 1,
   "metadata": {},
   "outputs": [],
   "source": [
    "#import packages\n",
    "from arcgis import GIS\n",
    "import pandas as pd"
   ]
  },
  {
   "cell_type": "code",
   "execution_count": 2,
   "metadata": {},
   "outputs": [],
   "source": [
    "#create link to AGOL account\n",
    "gis = GIS('pro')"
   ]
  },
  {
   "cell_type": "markdown",
   "metadata": {},
   "source": [
    "### Read files data into a single spatial dataframe"
   ]
  },
  {
   "cell_type": "code",
   "execution_count": 6,
   "metadata": {},
   "outputs": [],
   "source": [
    "#List the columns to use\n",
    "cols = ['LAT','LON','Community','HAIR_HG']"
   ]
  },
  {
   "cell_type": "code",
   "execution_count": 7,
   "metadata": {},
   "outputs": [],
   "source": [
    "#Read in hair data sets\n",
    "dfIOH = pd.read_csv('../data/raw/IOH.csv',usecols=cols)\n",
    "dfRioMDD = pd.read_csv('../data/raw/RioMDD.csv',usecols=cols)\n",
    "dfHUNT = pd.read_csv('../data/raw/HUNT.csv',usecols=cols)"
   ]
  },
  {
   "cell_type": "code",
   "execution_count": 9,
   "metadata": {},
   "outputs": [],
   "source": [
    "#Combine the dataframes\n",
    "dfHairHg = pd.concat([dfIOH,dfRioMDD,dfHUNT])"
   ]
  },
  {
   "cell_type": "code",
   "execution_count": 11,
   "metadata": {},
   "outputs": [],
   "source": [
    "#Convert to a spatial dataframe\n",
    "sdfHairHg = pd.DataFrame.spatial.from_xy(dfHairHg,x_column='LON',y_column='LAT')"
   ]
  },
  {
   "cell_type": "markdown",
   "metadata": {},
   "source": [
    "### Publish the data to ArcGIS Online"
   ]
  },
  {
   "cell_type": "code",
   "execution_count": 13,
   "metadata": {},
   "outputs": [],
   "source": [
    "#Publish the layer to the Peri Demo folder\n",
    "flyrHairHg = sdfHairHg.spatial.to_featurelayer(\n",
    "    title = \"Hair_HG\",\n",
    "    gis = gis,\n",
    "    tags = ['Peru Demo','Hair Hg'],\n",
    "    folder = '_Peru_DEMO'\n",
    ")"
   ]
  }
 ],
 "metadata": {
  "kernelspec": {
   "display_name": "Python 3",
   "language": "python",
   "name": "python3"
  },
  "language_info": {
   "codemirror_mode": {
    "name": "ipython",
    "version": 3
   },
   "file_extension": ".py",
   "mimetype": "text/x-python",
   "name": "python",
   "nbconvert_exporter": "python",
   "pygments_lexer": "ipython3",
   "version": "3.6.10"
  }
 },
 "nbformat": 4,
 "nbformat_minor": 4
}
