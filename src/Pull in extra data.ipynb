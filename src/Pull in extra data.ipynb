{
 "cells": [
  {
   "cell_type": "code",
   "execution_count": 2,
   "metadata": {},
   "outputs": [],
   "source": [
    "from arcgis import GIS\n",
    "import pandas as pd"
   ]
  },
  {
   "cell_type": "code",
   "execution_count": 3,
   "metadata": {},
   "outputs": [],
   "source": [
    "gis = GIS('pro')"
   ]
  },
  {
   "cell_type": "code",
   "execution_count": 4,
   "metadata": {},
   "outputs": [
    {
     "data": {
      "text/plain": [
       "dict_keys(['id', 'owner', 'created', 'modified', 'guid', 'name', 'title', 'type', 'typeKeywords', 'description', 'tags', 'snippet', 'thumbnail', 'documentation', 'extent', 'categories', 'spatialReference', 'accessInformation', 'licenseInfo', 'culture', 'properties', 'url', 'proxyFilter', 'access', 'size', 'appCategories', 'industries', 'languages', 'largeThumbnail', 'banner', 'screenshots', 'listed', 'commentsEnabled', 'numComments', 'numRatings', 'avgRating', 'numViews', 'scoreCompleteness', 'groupDesignations'])"
      ]
     },
     "execution_count": 4,
     "metadata": {},
     "output_type": "execute_result"
    }
   ],
   "source": [
    "web_map = gis.content.get('27c14547a5714c3ba3f5390d6d8c80f2')\n",
    "items = web_map.items()\n",
    "web_map.keys()"
   ]
  },
  {
   "cell_type": "code",
   "execution_count": 6,
   "metadata": {},
   "outputs": [
    {
     "data": {
      "text/plain": [
       "arcgis.gis.Item"
      ]
     },
     "execution_count": 6,
     "metadata": {},
     "output_type": "execute_result"
    }
   ],
   "source": [
    "type(web_map)"
   ]
  },
  {
   "cell_type": "code",
   "execution_count": 11,
   "metadata": {},
   "outputs": [],
   "source": [
    "map_data = web_map.get_data()"
   ]
  },
  {
   "cell_type": "code",
   "execution_count": 12,
   "metadata": {},
   "outputs": [
    {
     "data": {
      "text/plain": [
       "dict_keys(['operationalLayers', 'baseMap', 'spatialReference', 'authoringApp', 'authoringAppVersion', 'version'])"
      ]
     },
     "execution_count": 12,
     "metadata": {},
     "output_type": "execute_result"
    }
   ],
   "source": [
    "map_data.keys()"
   ]
  },
  {
   "cell_type": "code",
   "execution_count": 23,
   "metadata": {},
   "outputs": [
    {
     "data": {
      "text/plain": [
       "dict_keys(['id', 'layerType', 'url', 'visibility', 'opacity', 'title', 'itemId', 'layerDefinition', 'popupInfo', 'showLegend'])"
      ]
     },
     "execution_count": 23,
     "metadata": {},
     "output_type": "execute_result"
    }
   ],
   "source": [
    "map_data['operationalLayers'][0].keys()"
   ]
  },
  {
   "cell_type": "code",
   "execution_count": 26,
   "metadata": {},
   "outputs": [
    {
     "data": {
      "text/plain": [
       "[('7376eca25d384a08906ef87e81e56ddb',\n",
       "  'Enriched Peru Distrito Boundaries_2018 / District Population Data 2018'),\n",
       " ('b6d31b17ef20406589836b5681cfe697',\n",
       "  'Peru Distrito Boundaries 2018 / Peru District Boundaries'),\n",
       " ('b3bd625eac5041a090d8b100a24fa9df', 'Indigenous Territories'),\n",
       " ('9e6918b21fed4535b7f3004cad7ac513', 'Huepetuhe - Surface Area'),\n",
       " ('9e6918b21fed4535b7f3004cad7ac513', 'Huepetuhe - Lines'),\n",
       " ('9e6918b21fed4535b7f3004cad7ac513', 'Huepetuhe - Points'),\n",
       " ('9e6918b21fed4535b7f3004cad7ac513', 'Huepetuhe - Text'),\n",
       " ('857d5dc5a5714d8eb01f3a4809fa4990', 'Guacamayo - Surface Area'),\n",
       " ('857d5dc5a5714d8eb01f3a4809fa4990', 'Guacamayo - Lines'),\n",
       " ('857d5dc5a5714d8eb01f3a4809fa4990', 'Guacamayo - Points'),\n",
       " ('857d5dc5a5714d8eb01f3a4809fa4990', 'Guacamayo - Text'),\n",
       " ('09f8394c89be4db2acc31779432fb60d', 'Colorado-Puquiri - Surface Area'),\n",
       " ('09f8394c89be4db2acc31779432fb60d', 'Colorado_Puquiri - Lines'),\n",
       " ('09f8394c89be4db2acc31779432fb60d', 'Colorado_Puquiri - Points'),\n",
       " ('09f8394c89be4db2acc31779432fb60d', 'Colorado_Puquiri - Text'),\n",
       " ('92f3ea2f1b5647d891df96f5e47b2af8',\n",
       "  'INGEMMET - GEOCATMIN: Mining Foundations'),\n",
       " ('4084fb79052640e5b2415307dc948a7f', 'Huepetuhe'),\n",
       " ('f93b65e6d1fc4a55a4ca3fca0a4e320e', 'Colorado-Puquiri'),\n",
       " ('f77e1bb205e04783931120d3dafa64eb', 'Guacamayo'),\n",
       " ('4084fb79052640e5b2415307dc948a7f', 'Huepetuhe')]"
      ]
     },
     "execution_count": 26,
     "metadata": {},
     "output_type": "execute_result"
    }
   ],
   "source": [
    "#List the layers in the \n",
    "[(item['itemId'],item['title']) for item in map_data['operationalLayers']]"
   ]
  },
  {
   "cell_type": "code",
   "execution_count": 29,
   "metadata": {},
   "outputs": [
    {
     "data": {
      "text/plain": [
       "[<FeatureLayer url:\"https://services1.arcgis.com/IOnDXYLCAWAfoO54/arcgis/rest/services/DRME_Metalogenetico/FeatureServer/0\">,\n",
       " <FeatureLayer url:\"https://services1.arcgis.com/IOnDXYLCAWAfoO54/arcgis/rest/services/DRME_Metalogenetico/FeatureServer/1\">]"
      ]
     },
     "execution_count": 29,
     "metadata": {},
     "output_type": "execute_result"
    }
   ],
   "source": [
    "mining_layers = gis.content.get('92f3ea2f1b5647d891df96f5e47b2af8')\n"
   ]
  },
  {
   "cell_type": "code",
   "execution_count": null,
   "metadata": {},
   "outputs": [],
   "source": []
  }
 ],
 "metadata": {
  "kernelspec": {
   "display_name": "Python 3",
   "language": "python",
   "name": "python3"
  },
  "language_info": {
   "codemirror_mode": {
    "name": "ipython",
    "version": 3
   },
   "file_extension": ".py",
   "mimetype": "text/x-python",
   "name": "python",
   "nbconvert_exporter": "python",
   "pygments_lexer": "ipython3",
   "version": "3.6.10"
  }
 },
 "nbformat": 4,
 "nbformat_minor": 4
}
