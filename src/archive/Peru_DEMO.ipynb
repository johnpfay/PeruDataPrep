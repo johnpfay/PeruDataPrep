{
 "cells": [
  {
   "cell_type": "code",
   "execution_count": 1,
   "metadata": {},
   "outputs": [],
   "source": [
    "#Import packages\n",
    "from arcgis import GIS\n",
    "import pandas as pd\n",
    "from glob import glob"
   ]
  },
  {
   "cell_type": "code",
   "execution_count": 2,
   "metadata": {},
   "outputs": [],
   "source": [
    "#Create the GIS link\n",
    "gis = GIS('pro')"
   ]
  },
  {
   "cell_type": "code",
   "execution_count": 3,
   "metadata": {},
   "outputs": [
    {
     "data": {
      "text/plain": [
       "['C:\\\\Users\\\\jpfay\\\\Box\\\\Hg Map- Files to Process\\\\USABLE Data\\\\Processed in ArcGIS\\\\cleaned_HGMAPS.csv',\n",
       " 'C:\\\\Users\\\\jpfay\\\\Box\\\\Hg Map- Files to Process\\\\USABLE Data\\\\Processed in ArcGIS\\\\FishAnalysisLagCategories_final.csv',\n",
       " 'C:\\\\Users\\\\jpfay\\\\Box\\\\Hg Map- Files to Process\\\\USABLE Data\\\\Processed in ArcGIS\\\\sediment_analysis_final.csv',\n",
       " 'C:\\\\Users\\\\jpfay\\\\Box\\\\Hg Map- Files to Process\\\\USABLE Data\\\\Processed in ArcGIS\\\\suspendedparticles_final.csv']"
      ]
     },
     "execution_count": 3,
     "metadata": {},
     "output_type": "execute_result"
    }
   ],
   "source": [
    "#Get a list of the csv files in the box folder\n",
    "csv_files = glob(r'C:\\Users\\jpfay\\Box\\Hg Map- Files to Process\\USABLE Data\\Processed in ArcGIS\\*.csv')\n",
    "csv_files"
   ]
  },
  {
   "cell_type": "code",
   "execution_count": 44,
   "metadata": {},
   "outputs": [
    {
     "data": {
      "text/plain": [
       "(3259, 20)"
      ]
     },
     "execution_count": 44,
     "metadata": {},
     "output_type": "execute_result"
    }
   ],
   "source": [
    "#Import the first file into pandas & show columns imported\n",
    "df = pd.read_csv(csv_files[0])\n",
    "df.shape"
   ]
  },
  {
   "cell_type": "code",
   "execution_count": 45,
   "metadata": {},
   "outputs": [
    {
     "name": "stdout",
     "output_type": "stream",
     "text": [
      "<class 'pandas.core.frame.DataFrame'>\n",
      "RangeIndex: 3259 entries, 0 to 3258\n",
      "Data columns (total 20 columns):\n",
      " #   Column              Non-Null Count  Dtype  \n",
      "---  ------              --------------  -----  \n",
      " 0   Community           3259 non-null   object \n",
      " 1   mean_HG_adultmen    720 non-null    float64\n",
      " 2   mean_HG_adultfem    1330 non-null   float64\n",
      " 3   mean_HG_reprofem    1262 non-null   float64\n",
      " 4   mean_HG_ALLChild    1209 non-null   float64\n",
      " 5   mean_HG_youngChild  989 non-null    float64\n",
      " 6   hhcode              2536 non-null   object \n",
      " 7   pid                 3259 non-null   object \n",
      " 8   HAIR_HG             3259 non-null   float64\n",
      " 9   AGE                 3259 non-null   int64  \n",
      " 10  LAT                 3259 non-null   float64\n",
      " 11  LON                 3259 non-null   float64\n",
      " 12  Study               3259 non-null   object \n",
      " 13  Sex                 3259 non-null   object \n",
      " 14  _merge              2305 non-null   object \n",
      " 15  mean_LAT            3151 non-null   float64\n",
      " 16  mean_LON            3151 non-null   float64\n",
      " 17  log_HG              3259 non-null   float64\n",
      " 18  mean_HG_ALL         3259 non-null   float64\n",
      " 19  median_HG_ALL       3259 non-null   float64\n",
      "dtypes: float64(13), int64(1), object(6)\n",
      "memory usage: 509.3+ KB\n"
     ]
    }
   ],
   "source": [
    "#Show info on the columns\n",
    "df.info()"
   ]
  },
  {
   "cell_type": "code",
   "execution_count": 85,
   "metadata": {},
   "outputs": [],
   "source": [
    "#Set fields for analysis\n",
    "lat_fld = 'LAT'\n",
    "lng_fld = 'LON'\n",
    "data_fld = 'mean_HG_adultmen'"
   ]
  },
  {
   "cell_type": "code",
   "execution_count": 53,
   "metadata": {},
   "outputs": [],
   "source": [
    "#Convert to a spatial dataframe\n",
    "sdf = pd.DataFrame.spatial.from_xy(df,x_column=lng_fld,y_column=lat_fld)"
   ]
  },
  {
   "cell_type": "code",
   "execution_count": 86,
   "metadata": {},
   "outputs": [
    {
     "data": {
      "image/png": "[encoded data removed]",
      "text/plain": [
       "<Figure size 432x288 with 1 Axes>"
      ]
     },
     "metadata": {
      "needs_background": "light"
     },
     "output_type": "display_data"
    }
   ],
   "source": [
    "#Plot a histogram of the data fields\n",
    "df.hist(data_fld, bins = 10);"
   ]
  },
  {
   "cell_type": "code",
   "execution_count": 87,
   "metadata": {},
   "outputs": [
    {
     "data": {
      "application/vnd.jupyter.widget-view+json": {
       "model_id": "31cc2bd0d6bb4ad1813cba74a43f7b2a",
       "version_major": 2,
       "version_minor": 0
      },
      "text/plain": [
       "MapView(layout=Layout(height='400px', width='100%'))"
      ]
     },
     "metadata": {},
     "output_type": "display_data"
    },
    {
     "data": {
      "text/html": [
       "<div class=\"map-static-img-preview-ea6a9820-7b26-4995-95e8-8ebe84b965cf\"><img src=\"\"></img></div>"
      ],
      "text/plain": [
       "<IPython.core.display.HTML object>"
      ]
     },
     "metadata": {},
     "output_type": "display_data"
    }
   ],
   "source": [
    "#Create a map\n",
    "theMap = gis.map('Madre de Dios, Peru')\n",
    "#Set the basemap to satellite\n",
    "theMap.basemap = 'satellite'\n",
    "#Show the map\n",
    "theMap"
   ]
  },
  {
   "cell_type": "code",
   "execution_count": 89,
   "metadata": {},
   "outputs": [
    {
     "data": {
      "text/plain": [
       "True"
      ]
     },
     "execution_count": 89,
     "metadata": {},
     "output_type": "execute_result"
    }
   ],
   "source": [
    "#Plot the data on the map\n",
    "df.spatial.plot(\n",
    "    map_widget = theMap,\n",
    "    renderer_type='c',  # for class breaks renderer\n",
    "    line_width=0.0,\n",
    "    method='esriClassifyQuantiles',  # classification algorithm\n",
    "    class_count=10,  # choose the number of classes\n",
    "    col=data_fld,  # numeric column to classify\n",
    "    cmap='prism',  # color map to pick colors from for each class\n",
    "    alpha=0.7  # specify opacity\n",
    ")"
   ]
  },
  {
   "cell_type": "code",
   "execution_count": null,
   "metadata": {},
   "outputs": [],
   "source": []
  }
 ],
 "metadata": {
  "kernelspec": {
   "display_name": "Python 3",
   "language": "python",
   "name": "python3"
  },
  "language_info": {
   "codemirror_mode": {
    "name": "ipython",
    "version": 3
   },
   "file_extension": ".py",
   "mimetype": "text/x-python",
   "name": "python",
   "nbconvert_exporter": "python",
   "pygments_lexer": "ipython3",
   "version": "3.6.10"
  }
 },
 "nbformat": 4,
 "nbformat_minor": 4
}
