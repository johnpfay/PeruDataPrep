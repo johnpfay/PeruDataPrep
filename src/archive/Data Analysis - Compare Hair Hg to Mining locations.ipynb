{
 "cells": [
  {
   "cell_type": "markdown",
   "metadata": {},
   "source": [
    "### 0. Coding environment set up"
   ]
  },
  {
   "cell_type": "code",
   "execution_count": 1,
   "metadata": {},
   "outputs": [],
   "source": [
    "#Import packages\n",
    "from arcgis import GIS\n",
    "import pandas as pd\n",
    "%matplotlib inline"
   ]
  },
  {
   "cell_type": "code",
   "execution_count": 3,
   "metadata": {},
   "outputs": [],
   "source": [
    "#Connect to ArcGIS Online\n",
    "gis = GIS('pro')"
   ]
  },
  {
   "cell_type": "markdown",
   "metadata": {},
   "source": [
    "### 1. Get our data (hair HG)"
   ]
  },
  {
   "cell_type": "code",
   "execution_count": 16,
   "metadata": {},
   "outputs": [
    {
     "data": {
      "text/html": [
       "<div class=\"item_container\" style=\"height: auto; overflow: hidden; border: 1px solid #cfcfcf; border-radius: 2px; background: #f6fafa; line-height: 1.21429em; padding: 10px;\">\n",
       "                    <div class=\"item_left\" style=\"width: 210px; float: left;\">\n",
       "                       <a href='https://dukeuniv.maps.arcgis.com//home/item.html?id=7a2225034b4447d3a8dd69357b45fa07' target='_blank'>\n",
       "                        <img src='data:image/png;base64,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' width='200' height='133' class=\"itemThumbnail\">\n",
       "                       </a>\n",
       "                    </div>\n",
       "\n",
       "                    <div class=\"item_right\"     style=\"float: none; width: auto; overflow: hidden;\">\n",
       "                        <a href='https://dukeuniv.maps.arcgis.com//home/item.html?id=7a2225034b4447d3a8dd69357b45fa07' target='_blank'><b>Hair_HG</b>\n",
       "                        </a>\n",
       "                        <br/><img src='https://dukeuniv.maps.arcgis.com//home/js/jsapi/esri/css/images/item_type_icons/featureshosted16.png' style=\"vertical-align:middle;\">Feature Layer Collection by jpfay_dukeuniv\n",
       "                        <br/>Last Modified: September 17, 2020\n",
       "                        <br/>0 comments, 4 views\n",
       "                    </div>\n",
       "                </div>\n",
       "                "
      ],
      "text/plain": [
       "<Item title:\"Hair_HG\" type:Feature Layer Collection owner:jpfay_dukeuniv>"
      ]
     },
     "execution_count": 16,
     "metadata": {},
     "output_type": "execute_result"
    }
   ],
   "source": [
    "#Import Hair HG data from AGOL as a feature layer collection\n",
    "lyrcoll_HairHG = gis.content.get('7a2225034b4447d3a8dd69357b45fa07')\n",
    "lyrcoll_HairHG"
   ]
  },
  {
   "cell_type": "code",
   "execution_count": 24,
   "metadata": {},
   "outputs": [],
   "source": [
    "#Get the first (and only) feature layer from the feature layer collection\n",
    "lyr_HairHG = lyrcoll_HairHG.layers[0]"
   ]
  },
  {
   "cell_type": "code",
   "execution_count": 27,
   "metadata": {},
   "outputs": [
    {
     "data": {
      "text/html": [
       "<div>\n",
       "<style scoped>\n",
       "    .dataframe tbody tr th:only-of-type {\n",
       "        vertical-align: middle;\n",
       "    }\n",
       "\n",
       "    .dataframe tbody tr th {\n",
       "        vertical-align: top;\n",
       "    }\n",
       "\n",
       "    .dataframe thead th {\n",
       "        text-align: right;\n",
       "    }\n",
       "</style>\n",
       "<table border=\"1\" class=\"dataframe\">\n",
       "  <thead>\n",
       "    <tr style=\"text-align: right;\">\n",
       "      <th></th>\n",
       "      <th>OBJECTID</th>\n",
       "      <th>Community</th>\n",
       "      <th>HAIR_HG</th>\n",
       "      <th>LAT</th>\n",
       "      <th>LON</th>\n",
       "      <th>SHAPE</th>\n",
       "    </tr>\n",
       "  </thead>\n",
       "  <tbody>\n",
       "    <tr>\n",
       "      <th>0</th>\n",
       "      <td>1</td>\n",
       "      <td>AGUAS NEGRAS</td>\n",
       "      <td>3.1250</td>\n",
       "      <td>-12.57595</td>\n",
       "      <td>-69.25097</td>\n",
       "      <td>{\"x\": -7708982.717340257, \"y\": -1411326.456932...</td>\n",
       "    </tr>\n",
       "    <tr>\n",
       "      <th>1</th>\n",
       "      <td>2</td>\n",
       "      <td>AGUAS NEGRAS</td>\n",
       "      <td>1.4652</td>\n",
       "      <td>-12.66256</td>\n",
       "      <td>-69.43082</td>\n",
       "      <td>{\"x\": -7729003.527759432, \"y\": -1421206.507500...</td>\n",
       "    </tr>\n",
       "    <tr>\n",
       "      <th>2</th>\n",
       "      <td>3</td>\n",
       "      <td>AGUAS NEGRAS</td>\n",
       "      <td>3.6553</td>\n",
       "      <td>-12.57595</td>\n",
       "      <td>-69.25097</td>\n",
       "      <td>{\"x\": -7708982.717340257, \"y\": -1411326.456932...</td>\n",
       "    </tr>\n",
       "    <tr>\n",
       "      <th>3</th>\n",
       "      <td>4</td>\n",
       "      <td>AGUAS NEGRAS</td>\n",
       "      <td>3.2883</td>\n",
       "      <td>-12.65843</td>\n",
       "      <td>-69.43379</td>\n",
       "      <td>{\"x\": -7729334.146647089, \"y\": -1420735.301039...</td>\n",
       "    </tr>\n",
       "    <tr>\n",
       "      <th>4</th>\n",
       "      <td>5</td>\n",
       "      <td>AGUAS NEGRAS</td>\n",
       "      <td>2.2550</td>\n",
       "      <td>-12.66256</td>\n",
       "      <td>-69.43082</td>\n",
       "      <td>{\"x\": -7729003.527759432, \"y\": -1421206.507500...</td>\n",
       "    </tr>\n",
       "  </tbody>\n",
       "</table>\n",
       "</div>"
      ],
      "text/plain": [
       "   OBJECTID     Community  HAIR_HG       LAT       LON  \\\n",
       "0         1  AGUAS NEGRAS   3.1250 -12.57595 -69.25097   \n",
       "1         2  AGUAS NEGRAS   1.4652 -12.66256 -69.43082   \n",
       "2         3  AGUAS NEGRAS   3.6553 -12.57595 -69.25097   \n",
       "3         4  AGUAS NEGRAS   3.2883 -12.65843 -69.43379   \n",
       "4         5  AGUAS NEGRAS   2.2550 -12.66256 -69.43082   \n",
       "\n",
       "                                               SHAPE  \n",
       "0  {\"x\": -7708982.717340257, \"y\": -1411326.456932...  \n",
       "1  {\"x\": -7729003.527759432, \"y\": -1421206.507500...  \n",
       "2  {\"x\": -7708982.717340257, \"y\": -1411326.456932...  \n",
       "3  {\"x\": -7729334.146647089, \"y\": -1420735.301039...  \n",
       "4  {\"x\": -7729003.527759432, \"y\": -1421206.507500...  "
      ]
     },
     "execution_count": 27,
     "metadata": {},
     "output_type": "execute_result"
    }
   ],
   "source": [
    "#Query all data into a feature set, then to a spatial dataframe\n",
    "sdf_HairHG = lyr_HairHG.query().sdf\n",
    "sdf_HairHG.head()"
   ]
  },
  {
   "cell_type": "markdown",
   "metadata": {},
   "source": [
    "### 2. Search for Peruvian mining data"
   ]
  },
  {
   "cell_type": "code",
   "execution_count": 10,
   "metadata": {},
   "outputs": [
    {
     "data": {
      "text/plain": [
       "[<Item title:\" GEOCATMIN - Metalogenetico del Peru, escala 1: 3 000 000 año 2014 INGEMMET\" type:Feature Layer Collection owner:autonomoosi02@ingemmet.gob.pe_ingemmet_peru>]"
      ]
     },
     "execution_count": 10,
     "metadata": {},
     "output_type": "execute_result"
    }
   ],
   "source": [
    "#Search for Peru Mining data\n",
    "search_results = gis.content.search(\n",
    "    query = \"peru, metalogenia\", #Keywords\n",
    "    item_type = 'Feature Layer', #Data type\n",
    "    outside_org=True)            #Look beyond Duke\n",
    "#Show the results \n",
    "search_results"
   ]
  },
  {
   "cell_type": "code",
   "execution_count": 29,
   "metadata": {},
   "outputs": [
    {
     "data": {
      "text/html": [
       "<div class=\"item_container\" style=\"height: auto; overflow: hidden; border: 1px solid #cfcfcf; border-radius: 2px; background: #f6fafa; line-height: 1.21429em; padding: 10px;\">\n",
       "                    <div class=\"item_left\" style=\"width: 210px; float: left;\">\n",
       "                       <a href='https://dukeuniv.maps.arcgis.com//home/item.html?id=92f3ea2f1b5647d891df96f5e47b2af8' target='_blank'>\n",
       "                        <img src='data:image/png;base64,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' width='200' height='133' class=\"itemThumbnail\">\n",
       "                       </a>\n",
       "                    </div>\n",
       "\n",
       "                    <div class=\"item_right\"     style=\"float: none; width: auto; overflow: hidden;\">\n",
       "                        <a href='https://dukeuniv.maps.arcgis.com//home/item.html?id=92f3ea2f1b5647d891df96f5e47b2af8' target='_blank'><b> GEOCATMIN - Metalogenetico del Peru, escala 1: 3 000 000 año 2014 INGEMMET</b>\n",
       "                        </a>\n",
       "                        <br/>GEOCATMIN - Metalogenetico del Peru, escala 1: 3 000 000 año 2014 INGEMMET<img src='https://dukeuniv.maps.arcgis.com//home/js/jsapi/esri/css/images/item_type_icons/featureshosted16.png' style=\"vertical-align:middle;\">Feature Layer Collection by autonomoosi02@ingemmet.gob.pe_ingemmet_peru\n",
       "                        <br/>Last Modified: May 09, 2018\n",
       "                        <br/>0 comments, 482 views\n",
       "                    </div>\n",
       "                </div>\n",
       "                "
      ],
      "text/plain": [
       "<Item title:\" GEOCATMIN - Metalogenetico del Peru, escala 1: 3 000 000 año 2014 INGEMMET\" type:Feature Layer Collection owner:autonomoosi02@ingemmet.gob.pe_ingemmet_peru>"
      ]
     },
     "execution_count": 29,
     "metadata": {},
     "output_type": "execute_result"
    }
   ],
   "source": [
    "#Save the first (and only) result as a layer\n",
    "lyrcoll_mining = search_results[0]\n",
    "lyrcoll_mining"
   ]
  },
  {
   "cell_type": "code",
   "execution_count": null,
   "metadata": {},
   "outputs": [],
   "source": [
    "#Get the first layer (the points) from the layer collection\n",
    "lyr_mining = lyrcoll_mining.layers[0]"
   ]
  },
  {
   "cell_type": "code",
   "execution_count": 43,
   "metadata": {},
   "outputs": [
    {
     "data": {
      "text/plain": [
       "(1178, 14)"
      ]
     },
     "execution_count": 43,
     "metadata": {},
     "output_type": "execute_result"
    }
   ],
   "source": [
    "#Convert to a spatial dataframe, querying for only gold mines\n",
    "sdf_mining =lyr_mining.query(\"E_PRINCIPA like '%Au%'\").sdf\n",
    "sdf_mining.shape"
   ]
  },
  {
   "cell_type": "markdown",
   "metadata": {},
   "source": [
    "### Analysis: Compute # of mines within 5km each hair sampling location"
   ]
  },
  {
   "cell_type": "code",
   "execution_count": null,
   "metadata": {},
   "outputs": [],
   "source": []
  }
 ],
 "metadata": {
  "kernelspec": {
   "display_name": "Python 3",
   "language": "python",
   "name": "python3"
  },
  "language_info": {
   "codemirror_mode": {
    "name": "ipython",
    "version": 3
   },
   "file_extension": ".py",
   "mimetype": "text/x-python",
   "name": "python",
   "nbconvert_exporter": "python",
   "pygments_lexer": "ipython3",
   "version": "3.6.10"
  }
 },
 "nbformat": 4,
 "nbformat_minor": 4
}
