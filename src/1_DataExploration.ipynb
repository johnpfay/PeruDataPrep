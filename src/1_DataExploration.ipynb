{
 "cells": [
  {
   "cell_type": "code",
   "execution_count": 1,
   "id": "04a14b17",
   "metadata": {},
   "outputs": [],
   "source": [
    "#Import packages\n",
    "import pandas as pd\n",
    "from datetime import datetime"
   ]
  },
  {
   "cell_type": "code",
   "execution_count": 2,
   "id": "f9d6e3aa",
   "metadata": {},
   "outputs": [
    {
     "data": {
      "text/plain": [
       "(4627, 12)"
      ]
     },
     "execution_count": 2,
     "metadata": {},
     "output_type": "execute_result"
    }
   ],
   "source": [
    "#Read data\n",
    "df_raw = pd.read_excel('../data/raw/MadreDeDios_MercuryMasterData.xlsx')\n",
    "df_raw.shape"
   ]
  },
  {
   "cell_type": "code",
   "execution_count": 3,
   "id": "bfdaf79c",
   "metadata": {},
   "outputs": [
    {
     "name": "stdout",
     "output_type": "stream",
     "text": [
      "<class 'pandas.core.frame.DataFrame'>\n",
      "RangeIndex: 4627 entries, 0 to 4626\n",
      "Data columns (total 12 columns):\n",
      " #   Column                       Non-Null Count  Dtype  \n",
      "---  ------                       --------------  -----  \n",
      " 0   Author                       4627 non-null   object \n",
      " 1   Date data was collected      4627 non-null   object \n",
      " 2   Sample type                  4627 non-null   object \n",
      " 3   Species                      4223 non-null   object \n",
      " 4   Sample size                  4627 non-null   int64  \n",
      " 5   Longitude (X)                4626 non-null   float64\n",
      " 6   Latitude (Y)                 4626 non-null   float64\n",
      " 7   Mercury concentration (ppm)  4627 non-null   float64\n",
      " 8   Margin of error              766 non-null    float64\n",
      " 9   Mercury type                 4627 non-null   object \n",
      " 10  Age (human only)             3191 non-null   float64\n",
      " 11  Sex (human only)             3191 non-null   object \n",
      "dtypes: float64(5), int64(1), object(6)\n",
      "memory usage: 433.9+ KB\n"
     ]
    }
   ],
   "source": [
    "#Explore\n",
    "df_raw.info()"
   ]
  },
  {
   "cell_type": "code",
   "execution_count": null,
   "id": "394b9307",
   "metadata": {},
   "outputs": [],
   "source": [
    "df_raw.head(2)"
   ]
  },
  {
   "cell_type": "code",
   "execution_count": null,
   "id": "bca5a7a1",
   "metadata": {},
   "outputs": [],
   "source": [
    "#Extract genus to new field\n",
    "#df_raw['Genus'] = df_raw['Species'].apply(lambda x: str(x).split()[0])"
   ]
  },
  {
   "cell_type": "markdown",
   "id": "cffdd5ab",
   "metadata": {},
   "source": [
    "### Task 1 - Fix the dates\n",
    "The dates come in three formats. First, some records have proper date time formats (e.g. `2017-08-15 15:30:00`). Others, however, just have years (e.g. `2009`) or spans of years (e.g. `2001-2003`). \n",
    "\n",
    "To fix this, we'll construct a few new columns:\n",
    "* One column (\"`DateType`\") will list the type of date provided in the record: `datetime`, `year`, `range`. \n",
    "* A second column (\"`DateCollected`\") will include the full date and time of collection for those records where it is provided and others being set to null values. \n",
    "* A third column (\"`YearCollected`\") will include the year collected. Values here will be collected directly from the 'datetime' and 'year' records. And for the 'range' records, the year will be _the first year of collection_.\n",
    "* And finally a fourth column (\"`EndYearCollected`\") will include the last year if it's a 'range' record or a repeat of the \"Year Collected\" if not. "
   ]
  },
  {
   "cell_type": "code",
   "execution_count": null,
   "id": "b8814a5d",
   "metadata": {},
   "outputs": [],
   "source": [
    "#%% Add the \"DateType\" column, using a function to assing its value \n",
    "\n",
    "#Define function to assign date formats\n",
    "def get_date_type(the_date):\n",
    "    if type(the_date) == datetime:\n",
    "        return 'datetime'\n",
    "    elif type(the_date) == type(1):\n",
    "        return 'year'#datetime.strptime(str(the_date), '%Y')\n",
    "    else: \n",
    "        return 'range'\n",
    "\n",
    "#Apply the function to assign the value based on the data type of the record\n",
    "df_raw['DateType'] = df_raw['Date data was collected'].apply(get_date_type)\n",
    "\n",
    "#Reveal the counts of each type (Most have just a year)\n",
    "df_raw['DateType'].value_counts().plot(kind='bar');"
   ]
  },
  {
   "cell_type": "code",
   "execution_count": null,
   "id": "f2732813",
   "metadata": {},
   "outputs": [],
   "source": [
    "#%% Create conversion functions\n",
    "def convert_date(the_date):\n",
    "    if type(the_date) == datetime:\n",
    "        out_date = the_date\n",
    "        start_year = out_date.year\n",
    "        end_year = out_date.year\n",
    "    elif type(the_date) == type(1):\n",
    "        out_date = None \n",
    "        start_year = the_date#datetime.strptime(str(the_date), '%Y')\n",
    "        end_year   = the_date#datetime.strptime(str(the_date), '%Y')\n",
    "    else: \n",
    "        out_date = None\n",
    "        first_year,last_year = the_date.split(\"-\")\n",
    "        start_year = first_year #datetime.strptime(str(first_year), '%Y')\n",
    "        end_year   = last_year  #datetime.strptime(str(last_year), '%Y')\n",
    "    return pd.Series([out_date, int(start_year), int(end_year)])\n",
    "\n",
    "#Apply function\n",
    "df_raw[['DateCollected','StartYear','EndYear']] = df_raw['Date data was collected'].apply(convert_date)\n",
    "\n",
    "#Fix the fact that integers are upcasted as floats\n",
    "df_raw.StartYear = df_raw.StartYear.astype('int')\n",
    "df_raw.EndYear = df_raw.EndYear.astype('int')"
   ]
  },
  {
   "cell_type": "code",
   "execution_count": null,
   "id": "37fee133",
   "metadata": {},
   "outputs": [],
   "source": [
    "#"
   ]
  },
  {
   "cell_type": "code",
   "execution_count": null,
   "id": "51cb6430",
   "metadata": {},
   "outputs": [],
   "source": [
    "#For records with a proper datetime format, set that value in a \"DateCollected\" field\n",
    "#df_raw.loc[df_raw[\"DateType\"]=='datetime','DateCollected'] = df_raw['Date data was collected']\n",
    "\n",
    "#df_raw.loc[df_raw[\"DateType\"]=='year','DateCollected'] = pd.to_datetime(df_raw['Date data was collected'])\n",
    "df_raw.iloc[11:17]"
   ]
  },
  {
   "cell_type": "code",
   "execution_count": null,
   "id": "de9fc511",
   "metadata": {},
   "outputs": [],
   "source": [
    "#Add the \"YearCollected\" field\n",
    "df_raw.loc[df_raw[\"DateType\"]=='datetime']['YearCollected'] = pd.DatetimeIndex(df_raw['DateCollected']).year"
   ]
  },
  {
   "cell_type": "code",
   "execution_count": null,
   "id": "dc37ad7a",
   "metadata": {},
   "outputs": [],
   "source": [
    "#Push properly time stamped data to a new dataframe\n",
    "df_fulldate = df_raw.loc[df_raw['DateType']=='datetime']\n",
    "df_fulldate.index = pd.to_datetime(df_fulldate['Date data was collected'])\n",
    "df_fulldate.info()"
   ]
  },
  {
   "cell_type": "code",
   "execution_count": null,
   "id": "f1a1645d",
   "metadata": {},
   "outputs": [],
   "source": [
    "df_raw['DateType'].value_counts().plot(kind='bar')"
   ]
  },
  {
   "cell_type": "code",
   "execution_count": null,
   "id": "ff135d9f",
   "metadata": {},
   "outputs": [],
   "source": [
    "df_subset = df_raw.loc[df_raw['Date Filter'] == False]\n",
    "df_subset2 = df_raw.loc[df_raw['Date Filter'] != False]\n"
   ]
  },
  {
   "cell_type": "code",
   "execution_count": null,
   "id": "a1c4b4d1",
   "metadata": {},
   "outputs": [],
   "source": [
    "df_subset['Date data was collected'].unique()"
   ]
  },
  {
   "cell_type": "code",
   "execution_count": null,
   "id": "1463d9df",
   "metadata": {},
   "outputs": [],
   "source": [
    "datetime.strptime(\"2020\", '%Y')"
   ]
  }
 ],
 "metadata": {
  "kernelspec": {
   "display_name": "Python 3",
   "language": "python",
   "name": "python3"
  },
  "language_info": {
   "codemirror_mode": {
    "name": "ipython",
    "version": 3
   },
   "file_extension": ".py",
   "mimetype": "text/x-python",
   "name": "python",
   "nbconvert_exporter": "python",
   "pygments_lexer": "ipython3",
   "version": "3.7.10"
  }
 },
 "nbformat": 4,
 "nbformat_minor": 5
}
