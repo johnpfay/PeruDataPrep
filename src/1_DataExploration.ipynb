{
 "cells": [
  {
   "cell_type": "code",
   "execution_count": 36,
   "id": "04a14b17",
   "metadata": {},
   "outputs": [],
   "source": [
    "#Import packages\n",
    "import pandas as pd\n",
    "from datetime import datetime"
   ]
  },
  {
   "cell_type": "code",
   "execution_count": 3,
   "id": "f9d6e3aa",
   "metadata": {},
   "outputs": [],
   "source": [
    "#Read data\n",
    "df_raw = pd.read_excel('../data/raw/MadreDeDios_MercuryMasterData.xlsx')"
   ]
  },
  {
   "cell_type": "code",
   "execution_count": 5,
   "id": "bfdaf79c",
   "metadata": {},
   "outputs": [
    {
     "name": "stdout",
     "output_type": "stream",
     "text": [
      "<class 'pandas.core.frame.DataFrame'>\n",
      "RangeIndex: 4627 entries, 0 to 4626\n",
      "Data columns (total 12 columns):\n",
      " #   Column                       Non-Null Count  Dtype  \n",
      "---  ------                       --------------  -----  \n",
      " 0   Author                       4627 non-null   object \n",
      " 1   Date data was collected      4627 non-null   object \n",
      " 2   Sample type                  4627 non-null   object \n",
      " 3   Species                      4223 non-null   object \n",
      " 4   Sample size                  4627 non-null   int64  \n",
      " 5   Longitude (X)                4626 non-null   float64\n",
      " 6   Latitude (Y)                 4626 non-null   float64\n",
      " 7   Mercury concentration (ppm)  4627 non-null   float64\n",
      " 8   Margin of error              766 non-null    float64\n",
      " 9   Mercury type                 4627 non-null   object \n",
      " 10  Age (human only)             3191 non-null   float64\n",
      " 11  Sex (human only)             3191 non-null   object \n",
      "dtypes: float64(5), int64(1), object(6)\n",
      "memory usage: 433.9+ KB\n"
     ]
    }
   ],
   "source": [
    "#Explore\n",
    "df_raw.info()"
   ]
  },
  {
   "cell_type": "code",
   "execution_count": 6,
   "id": "394b9307",
   "metadata": {},
   "outputs": [
    {
     "data": {
      "text/html": [
       "<div>\n",
       "<style scoped>\n",
       "    .dataframe tbody tr th:only-of-type {\n",
       "        vertical-align: middle;\n",
       "    }\n",
       "\n",
       "    .dataframe tbody tr th {\n",
       "        vertical-align: top;\n",
       "    }\n",
       "\n",
       "    .dataframe thead th {\n",
       "        text-align: right;\n",
       "    }\n",
       "</style>\n",
       "<table border=\"1\" class=\"dataframe\">\n",
       "  <thead>\n",
       "    <tr style=\"text-align: right;\">\n",
       "      <th></th>\n",
       "      <th>Author</th>\n",
       "      <th>Date data was collected</th>\n",
       "      <th>Sample type</th>\n",
       "      <th>Species</th>\n",
       "      <th>Sample size</th>\n",
       "      <th>Longitude (X)</th>\n",
       "      <th>Latitude (Y)</th>\n",
       "      <th>Mercury concentration (ppm)</th>\n",
       "      <th>Margin of error</th>\n",
       "      <th>Mercury type</th>\n",
       "      <th>Age (human only)</th>\n",
       "      <th>Sex (human only)</th>\n",
       "    </tr>\n",
       "  </thead>\n",
       "  <tbody>\n",
       "    <tr>\n",
       "      <th>0</th>\n",
       "      <td>Roach 2013</td>\n",
       "      <td>2009</td>\n",
       "      <td>Fish</td>\n",
       "      <td>Brachychalcinus sp.</td>\n",
       "      <td>1</td>\n",
       "      <td>-69.33333</td>\n",
       "      <td>-12.78707</td>\n",
       "      <td>0.054</td>\n",
       "      <td>NaN</td>\n",
       "      <td>Total Mercury</td>\n",
       "      <td>NaN</td>\n",
       "      <td>NaN</td>\n",
       "    </tr>\n",
       "    <tr>\n",
       "      <th>1</th>\n",
       "      <td>Roach 2013</td>\n",
       "      <td>2009</td>\n",
       "      <td>Fish</td>\n",
       "      <td>Serrasalmus sp</td>\n",
       "      <td>2</td>\n",
       "      <td>-69.33333</td>\n",
       "      <td>-12.78707</td>\n",
       "      <td>0.320</td>\n",
       "      <td>NaN</td>\n",
       "      <td>Total Mercury</td>\n",
       "      <td>NaN</td>\n",
       "      <td>NaN</td>\n",
       "    </tr>\n",
       "    <tr>\n",
       "      <th>2</th>\n",
       "      <td>Roach 2013</td>\n",
       "      <td>2009</td>\n",
       "      <td>Fish</td>\n",
       "      <td>Triportheus angulatus</td>\n",
       "      <td>1</td>\n",
       "      <td>-69.33333</td>\n",
       "      <td>-12.78707</td>\n",
       "      <td>0.223</td>\n",
       "      <td>NaN</td>\n",
       "      <td>Total Mercury</td>\n",
       "      <td>NaN</td>\n",
       "      <td>NaN</td>\n",
       "    </tr>\n",
       "    <tr>\n",
       "      <th>3</th>\n",
       "      <td>Roach 2013</td>\n",
       "      <td>2009</td>\n",
       "      <td>Fish</td>\n",
       "      <td>Hoplias malabaricus</td>\n",
       "      <td>2</td>\n",
       "      <td>-69.33333</td>\n",
       "      <td>-12.78707</td>\n",
       "      <td>0.466</td>\n",
       "      <td>NaN</td>\n",
       "      <td>Total Mercury</td>\n",
       "      <td>NaN</td>\n",
       "      <td>NaN</td>\n",
       "    </tr>\n",
       "    <tr>\n",
       "      <th>4</th>\n",
       "      <td>Roach 2013</td>\n",
       "      <td>2009</td>\n",
       "      <td>Fish</td>\n",
       "      <td>Satanoperca jurupari</td>\n",
       "      <td>2</td>\n",
       "      <td>-69.33333</td>\n",
       "      <td>-12.78707</td>\n",
       "      <td>0.043</td>\n",
       "      <td>NaN</td>\n",
       "      <td>Total Mercury</td>\n",
       "      <td>NaN</td>\n",
       "      <td>NaN</td>\n",
       "    </tr>\n",
       "  </tbody>\n",
       "</table>\n",
       "</div>"
      ],
      "text/plain": [
       "       Author Date data was collected Sample type                Species  \\\n",
       "0  Roach 2013                    2009        Fish    Brachychalcinus sp.   \n",
       "1  Roach 2013                    2009        Fish         Serrasalmus sp   \n",
       "2  Roach 2013                    2009        Fish  Triportheus angulatus   \n",
       "3  Roach 2013                    2009        Fish    Hoplias malabaricus   \n",
       "4  Roach 2013                    2009        Fish   Satanoperca jurupari   \n",
       "\n",
       "   Sample size  Longitude (X)  Latitude (Y)  Mercury concentration (ppm)  \\\n",
       "0            1      -69.33333     -12.78707                        0.054   \n",
       "1            2      -69.33333     -12.78707                        0.320   \n",
       "2            1      -69.33333     -12.78707                        0.223   \n",
       "3            2      -69.33333     -12.78707                        0.466   \n",
       "4            2      -69.33333     -12.78707                        0.043   \n",
       "\n",
       "   Margin of error   Mercury type  Age (human only) Sex (human only)  \n",
       "0              NaN  Total Mercury               NaN              NaN  \n",
       "1              NaN  Total Mercury               NaN              NaN  \n",
       "2              NaN  Total Mercury               NaN              NaN  \n",
       "3              NaN  Total Mercury               NaN              NaN  \n",
       "4              NaN  Total Mercury               NaN              NaN  "
      ]
     },
     "execution_count": 6,
     "metadata": {},
     "output_type": "execute_result"
    }
   ],
   "source": [
    "df_raw.head()"
   ]
  },
  {
   "cell_type": "code",
   "execution_count": 20,
   "id": "bca5a7a1",
   "metadata": {},
   "outputs": [],
   "source": [
    "#Extract genus to new field\n",
    "df_raw['Genus'] = df_raw['Species'].apply(lambda x: str(x).split()[0])"
   ]
  },
  {
   "cell_type": "code",
   "execution_count": 62,
   "id": "f864bad9",
   "metadata": {},
   "outputs": [],
   "source": [
    "#Define function to fix date formats\n",
    "def fix_date(the_date):\n",
    "    if type(the_date) == datetime:\n",
    "        return \"DateTime\"\n",
    "    elif type(the_date) == type(1):\n",
    "        return datetime.strptime(the_date, '%Y')\n",
    "    else: return \"Range\""
   ]
  },
  {
   "cell_type": "code",
   "execution_count": 63,
   "id": "b8814a5d",
   "metadata": {},
   "outputs": [],
   "source": [
    "#Add a \"date filter\" for records with specific dates (not years or ranges)\n",
    "df_raw['Date Filter'] = df_raw['Date data was collected'].apply(lambda x: type(x) == datetime)\n",
    "df_raw['DateType'] = df_raw['Date data was collected'].apply(fix_date)"
   ]
  },
  {
   "cell_type": "code",
   "execution_count": 64,
   "id": "f1a1645d",
   "metadata": {},
   "outputs": [
    {
     "data": {
      "text/plain": [
       "Year        3750\n",
       "Range        569\n",
       "DateTime     308\n",
       "Name: DateType, dtype: int64"
      ]
     },
     "execution_count": 64,
     "metadata": {},
     "output_type": "execute_result"
    }
   ],
   "source": [
    "df_raw['DateType'].value_counts()"
   ]
  },
  {
   "cell_type": "code",
   "execution_count": 45,
   "id": "ff135d9f",
   "metadata": {},
   "outputs": [],
   "source": [
    "df_subset = df_raw.loc[df_raw['Date Filter'] == False]"
   ]
  },
  {
   "cell_type": "code",
   "execution_count": 46,
   "id": "a1c4b4d1",
   "metadata": {},
   "outputs": [
    {
     "data": {
      "text/plain": [
       "array([2009, '2015-2016', '1990-1993', 2014, 2015, 2013, 2011,\n",
       "       '2013-2014', '2014-2015', 2017, '2002-2003'], dtype=object)"
      ]
     },
     "execution_count": 46,
     "metadata": {},
     "output_type": "execute_result"
    }
   ],
   "source": [
    "df_subset['Date data was collected'].unique()"
   ]
  },
  {
   "cell_type": "code",
   "execution_count": 68,
   "id": "1463d9df",
   "metadata": {},
   "outputs": [
    {
     "data": {
      "text/plain": [
       "datetime.datetime(2020, 1, 1, 0, 0)"
      ]
     },
     "execution_count": 68,
     "metadata": {},
     "output_type": "execute_result"
    }
   ],
   "source": [
    "datetime.strptime(\"2020\", '%Y')"
   ]
  }
 ],
 "metadata": {
  "kernelspec": {
   "display_name": "Python 3",
   "language": "python",
   "name": "python3"
  },
  "language_info": {
   "codemirror_mode": {
    "name": "ipython",
    "version": 3
   },
   "file_extension": ".py",
   "mimetype": "text/x-python",
   "name": "python",
   "nbconvert_exporter": "python",
   "pygments_lexer": "ipython3",
   "version": "3.7.10"
  }
 },
 "nbformat": 4,
 "nbformat_minor": 5
}
